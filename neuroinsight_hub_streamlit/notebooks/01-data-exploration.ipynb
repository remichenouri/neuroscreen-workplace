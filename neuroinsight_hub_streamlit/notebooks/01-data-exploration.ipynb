# Cellule 1: Imports
import pandas as pd
import plotly.express as px
import numpy as np

# Cellule 2: Chargement des données
df = pd.read_csv('../data/sample/demo_data.csv')
print(f"Dataset shape: {df.shape}")

# Cellule 3: Analyse exploratoire
fig = px.scatter(df, x='creative_score', y='burnout_scale', 
                color='department', title='Creative Score vs Burnout')
fig.show()

# Cellule 4: Corrélations
correlation_matrix = df.select_dtypes(include=[np.number]).corr()
print("Matrice de corrélation:")
print(correlation_matrix)
